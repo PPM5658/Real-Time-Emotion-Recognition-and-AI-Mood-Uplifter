{
  "nbformat": 4,
  "nbformat_minor": 0,
  "metadata": {
    "colab": {
      "provenance": [],
      "mount_file_id": "1Hxa8Ws0T3O-mvS1IdGKX-fvFe5VL579T",
      "authorship_tag": "ABX9TyMdPMa52BylLKMPrObdM/xA",
      "include_colab_link": true
    },
    "kernelspec": {
      "name": "python3",
      "display_name": "Python 3"
    },
    "language_info": {
      "name": "python"
    }
  },
  "cells": [
    {
      "cell_type": "markdown",
      "metadata": {
        "id": "view-in-github",
        "colab_type": "text"
      },
      "source": [
        "<a href=\"https://colab.research.google.com/github/PPM5658/Real-Time-Emotion-Recognition-and-AI-Mood-Uplifter/blob/main/Real_Time_Emotion_Recognition_and_AI_Mood_Uplifter.ipynb\" target=\"_parent\"><img src=\"https://colab.research.google.com/assets/colab-badge.svg\" alt=\"Open In Colab\"/></a>"
      ]
    },
    {
      "cell_type": "code",
      "execution_count": null,
      "metadata": {
        "id": "vltFi68OkoyW"
      },
      "outputs": [],
      "source": []
    }
  ]
}